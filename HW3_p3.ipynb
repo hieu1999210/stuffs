{
  "nbformat": 4,
  "nbformat_minor": 0,
  "metadata": {
    "colab": {
      "name": "HW3_p3.ipynb",
      "version": "0.3.2",
      "provenance": [],
      "collapsed_sections": [],
      "toc_visible": true,
      "include_colab_link": true
    },
    "kernelspec": {
      "name": "python3",
      "display_name": "Python 3"
    },
    "accelerator": "GPU"
  },
  "cells": [
    {
      "cell_type": "markdown",
      "metadata": {
        "id": "view-in-github",
        "colab_type": "text"
      },
      "source": [
        "<a href=\"https://colab.research.google.com/github/hieu1999210/stuffs/blob/master/HW3_p3.ipynb\" target=\"_parent\"><img src=\"https://colab.research.google.com/assets/colab-badge.svg\" alt=\"Open In Colab\"/></a>"
      ]
    },
    {
      "cell_type": "markdown",
      "metadata": {
        "id": "zDGoL5erGesc",
        "colab_type": "text"
      },
      "source": [
        " #  Homework 3: Problem 3 # "
      ]
    },
    {
      "cell_type": "markdown",
      "metadata": {
        "id": "7NRyHkFqGPZG",
        "colab_type": "text"
      },
      "source": [
        "# Part a) Collecting and Preprocessing data"
      ]
    },
    {
      "cell_type": "code",
      "metadata": {
        "id": "SF-kDygiHuMy",
        "colab_type": "code",
        "outputId": "c0d77b5a-cfd6-4fa3-af43-96050a8f028b",
        "colab": {
          "base_uri": "https://localhost:8080/",
          "height": 35
        }
      },
      "source": [
        "!pip install -q tensorflow-gpu==2.0.0-alpha0\n",
        "import tensorflow as tf\n",
        "tf.__version__\n",
        "\n"
      ],
      "execution_count": 0,
      "outputs": [
        {
          "output_type": "execute_result",
          "data": {
            "text/plain": [
              "'2.0.0-alpha0'"
            ]
          },
          "metadata": {
            "tags": []
          },
          "execution_count": 9
        }
      ]
    },
    {
      "cell_type": "code",
      "metadata": {
        "id": "AYjgp57fHcNp",
        "colab_type": "code",
        "colab": {}
      },
      "source": [
        "from tensorflow.keras.datasets import mnist\n",
        "import tensorflow as tf"
      ],
      "execution_count": 0,
      "outputs": []
    },
    {
      "cell_type": "code",
      "metadata": {
        "id": "jRrCM0L1lYG-",
        "colab_type": "code",
        "colab": {}
      },
      "source": [
        "#@title Set seeds { form-width: \"30%\", display-mode: \"both\" }\n",
        "_Numpy_seed = 1 #@param {type:\"integer\"}\n",
        "_Tensorflow_seed = 2 #@param {type:\"integer\"}\n",
        "# set seed to reproduce the result\n",
        "\n",
        "from numpy.random import seed\n",
        "seed(_Numpy_seed)\n",
        "tf.random.set_seed(_Tensorflow_seed)"
      ],
      "execution_count": 0,
      "outputs": []
    },
    {
      "cell_type": "code",
      "metadata": {
        "id": "kSICBGlo6Dbr",
        "colab_type": "code",
        "outputId": "2ea09839-f717-4615-b7d8-e5bafbb021b4",
        "colab": {
          "base_uri": "https://localhost:8080/",
          "height": 35
        }
      },
      "source": [
        "import numpy as np\n",
        "\n",
        "\n",
        "# load data\n",
        "\n",
        "(train_X, train_Y), (test_X, test_Y) = mnist.load_data()\n",
        "\n",
        "# convert data into tensors\n",
        "\n",
        "# train_X = tf.convert_to_tensor(\n",
        "#     train_X,\n",
        "#     dtype=None,\n",
        "#     name=None\n",
        "# )\n",
        "\n",
        "# test_X = tf.convert_to_tensor(\n",
        "#     test_X,\n",
        "#     dtype=None,\n",
        "#     name=None,\n",
        "# )\n",
        "\n",
        "\n",
        "# extend image to 28x28x1\n",
        "\n",
        "train_X = np.expand_dims(train_X,-1)\n",
        "test_X = np.expand_dims(test_X,-1)\n",
        "\n",
        "# train_X = tf.expand_dims(\n",
        "#     train_X,\n",
        "#     axis=3,\n",
        "#     name=None\n",
        "# )\n",
        "\n",
        "# test_X = tf.expand_dims(\n",
        "#     test_X,\n",
        "#     axis=3,\n",
        "#     name=None\n",
        "# )\n",
        "\n",
        "test_X.shape"
      ],
      "execution_count": 0,
      "outputs": [
        {
          "output_type": "execute_result",
          "data": {
            "text/plain": [
              "(10000, 28, 28, 1)"
            ]
          },
          "metadata": {
            "tags": []
          },
          "execution_count": 12
        }
      ]
    },
    {
      "cell_type": "code",
      "metadata": {
        "id": "tWYgEUZ370GC",
        "colab_type": "code",
        "colab": {}
      },
      "source": [
        "# import matplotlib.pyplot as plt\n",
        "# %matplotlib inline\n",
        "# def show_img(img):\n",
        "#     plt.figure(dpi=100)\n",
        "#     plt.imshow(img, cmap=plt.get_cmap('gray'))\n",
        "#     plt.show()\n",
        "    \n",
        "# show_img(train_X[0])\n",
        "\n"
      ],
      "execution_count": 0,
      "outputs": []
    },
    {
      "cell_type": "code",
      "metadata": {
        "id": "RMRGkG7P89G_",
        "colab_type": "code",
        "outputId": "90e69100-396c-4793-e4ef-3418e1b60041",
        "colab": {
          "base_uri": "https://localhost:8080/",
          "height": 35
        }
      },
      "source": [
        "# conver labels to one-hot vertors\n",
        "\n",
        "from keras.utils import np_utils\n",
        "\n",
        "train_onehot = np_utils.to_categorical(train_Y)\n",
        "test_onehot = np_utils.to_categorical(test_Y)\n",
        "print(test_onehot[0])"
      ],
      "execution_count": 0,
      "outputs": [
        {
          "output_type": "stream",
          "text": [
            "[0. 0. 0. 0. 0. 0. 0. 1. 0. 0.]\n"
          ],
          "name": "stdout"
        }
      ]
    },
    {
      "cell_type": "markdown",
      "metadata": {
        "id": "6_BZCl1uL3cs",
        "colab_type": "text"
      },
      "source": [
        "# Part b) Building model"
      ]
    },
    {
      "cell_type": "code",
      "metadata": {
        "id": "Ifg4hdX4L_4c",
        "colab_type": "code",
        "colab": {}
      },
      "source": [
        "#@title Set seeds (to reproduce results) { form-width: \"30%\", display-mode: \"both\" }\n",
        "_Dropout_seed = 3 #@param {type:\"integer\"}\n",
        "_glorot_seed = 4 #@param {type:\"integer\"}\n",
        "from tensorflow.keras.layers import *\n",
        "from tensorflow.keras.models import Model, Sequential\n",
        "from tensorflow.keras import initializers\n",
        "# from keras.models import Sequential\n",
        "\n",
        "def build_model(length, width):  # selected model\n",
        "\n",
        "    model = Sequential()\n",
        "    model.add(Conv2D(filters = 32,\n",
        "                     kernel_size = (3, 3),\n",
        "                     kernel_initializer = initializers.glorot_uniform(seed=_glorot_seed),\n",
        "                     activation='relu', input_shape=(length,width,1)))\n",
        "    model.add(Conv2D(filters = 64,\n",
        "                     kernel_size = (3, 3),\n",
        "                     kernel_initializer = initializers.glorot_uniform(seed=_glorot_seed),\n",
        "                     activation = 'relu'))\n",
        "    model.add(MaxPooling2D((2, 2)))\n",
        "    model.add(Flatten())\n",
        "    model.add(Dense(128,\n",
        "                    kernel_initializer=initializers.glorot_uniform(seed=_glorot_seed),\n",
        "                    activation='relu'))\n",
        "    model.add(Dropout(0.25, seed = _Dropout_seed))\n",
        "    model.add(Dense(10,\n",
        "                    kernel_initializer=initializers.glorot_uniform(seed=_glorot_seed),\n",
        "                    activation='softmax'))\n",
        "    return model"
      ],
      "execution_count": 0,
      "outputs": []
    },
    {
      "cell_type": "code",
      "metadata": {
        "id": "vvWKQ1K5RIDZ",
        "colab_type": "code",
        "outputId": "edd5a65c-f9f7-4ace-9ec5-66830952342f",
        "colab": {
          "base_uri": "https://localhost:8080/",
          "height": 399
        }
      },
      "source": [
        "#@title Model components { form-width: \"40%\", display-mode: \"both\" }\n",
        "_optimizer = \"SGD\" #@param {type:\"string\"}\n",
        "_loss_function = \"categorical_crossentropy\" #@param {type:\"string\"}\n",
        "_metric = \"acc\" #@param {type:\"string\"}\n",
        "Length = 28 #@param {type:\"integer\"}\n",
        "Width = 28 #@param {type:\"integer\"}\n",
        "model = build_model(Length, Width)\n",
        "model.summary()\n",
        "model.compile(loss=_loss_function, optimizer=_optimizer, metrics=[_metric])"
      ],
      "execution_count": 0,
      "outputs": [
        {
          "output_type": "stream",
          "text": [
            "Model: \"sequential_3\"\n",
            "_________________________________________________________________\n",
            "Layer (type)                 Output Shape              Param #   \n",
            "=================================================================\n",
            "conv2d_6 (Conv2D)            (None, 26, 26, 32)        320       \n",
            "_________________________________________________________________\n",
            "conv2d_7 (Conv2D)            (None, 24, 24, 64)        18496     \n",
            "_________________________________________________________________\n",
            "max_pooling2d_3 (MaxPooling2 (None, 12, 12, 64)        0         \n",
            "_________________________________________________________________\n",
            "flatten_3 (Flatten)          (None, 9216)              0         \n",
            "_________________________________________________________________\n",
            "dense_6 (Dense)              (None, 128)               1179776   \n",
            "_________________________________________________________________\n",
            "dropout_3 (Dropout)          (None, 128)               0         \n",
            "_________________________________________________________________\n",
            "dense_7 (Dense)              (None, 10)                1290      \n",
            "=================================================================\n",
            "Total params: 1,199,882\n",
            "Trainable params: 1,199,882\n",
            "Non-trainable params: 0\n",
            "_________________________________________________________________\n"
          ],
          "name": "stdout"
        }
      ]
    },
    {
      "cell_type": "markdown",
      "metadata": {
        "id": "0Q5NLYBZk17v",
        "colab_type": "text"
      },
      "source": [
        "# Part c) Training model and Results"
      ]
    },
    {
      "cell_type": "code",
      "metadata": {
        "id": "sSXnf4VgXys6",
        "colab_type": "code",
        "outputId": "f967b18b-aaf4-42e1-bd76-ee07344db5d3",
        "colab": {
          "base_uri": "https://localhost:8080/",
          "height": 1075
        }
      },
      "source": [
        "#@title Fitting setups { form-width: \"30%\", display-mode: \"both\" }\n",
        "_number_of_epocks = 30 #@param {type:\"integer\"}\n",
        "_batch_size = 128 #@param {type:\"integer\"}\n",
        "\n",
        "#train model\n",
        "history = model.fit(train_X,\n",
        "          train_onehot,\n",
        "          epochs=_number_of_epocks,\n",
        "          batch_size=_batch_size,\n",
        "          verbose=2)"
      ],
      "execution_count": 0,
      "outputs": [
        {
          "output_type": "stream",
          "text": [
            "Epoch 1/30\n",
            "60000/60000 - 3s - loss: 0.8787 - acc: 0.8275\n",
            "Epoch 2/30\n",
            "60000/60000 - 3s - loss: 0.2456 - acc: 0.9252\n",
            "Epoch 3/30\n",
            "60000/60000 - 3s - loss: 0.1827 - acc: 0.9458\n",
            "Epoch 4/30\n",
            "60000/60000 - 3s - loss: 0.1508 - acc: 0.9546\n",
            "Epoch 5/30\n",
            "60000/60000 - 3s - loss: 0.1279 - acc: 0.9603\n",
            "Epoch 6/30\n",
            "60000/60000 - 3s - loss: 0.1119 - acc: 0.9661\n",
            "Epoch 7/30\n",
            "60000/60000 - 3s - loss: 0.1000 - acc: 0.9693\n",
            "Epoch 8/30\n",
            "60000/60000 - 3s - loss: 0.0923 - acc: 0.9713\n",
            "Epoch 9/30\n",
            "60000/60000 - 3s - loss: 0.0856 - acc: 0.9738\n",
            "Epoch 10/30\n",
            "60000/60000 - 3s - loss: 0.0775 - acc: 0.9757\n",
            "Epoch 11/30\n",
            "60000/60000 - 3s - loss: 0.0734 - acc: 0.9774\n",
            "Epoch 12/30\n",
            "60000/60000 - 3s - loss: 0.0687 - acc: 0.9791\n",
            "Epoch 13/30\n",
            "60000/60000 - 3s - loss: 0.0665 - acc: 0.9789\n",
            "Epoch 14/30\n",
            "60000/60000 - 3s - loss: 0.0597 - acc: 0.9819\n",
            "Epoch 15/30\n",
            "60000/60000 - 3s - loss: 0.0559 - acc: 0.9828\n",
            "Epoch 16/30\n",
            "60000/60000 - 3s - loss: 0.0533 - acc: 0.9829\n",
            "Epoch 17/30\n",
            "60000/60000 - 3s - loss: 0.0503 - acc: 0.9841\n",
            "Epoch 18/30\n",
            "60000/60000 - 3s - loss: 0.0495 - acc: 0.9839\n",
            "Epoch 19/30\n",
            "60000/60000 - 3s - loss: 0.0463 - acc: 0.9851\n",
            "Epoch 20/30\n",
            "60000/60000 - 3s - loss: 0.0449 - acc: 0.9859\n",
            "Epoch 21/30\n",
            "60000/60000 - 3s - loss: 0.0434 - acc: 0.9863\n",
            "Epoch 22/30\n",
            "60000/60000 - 3s - loss: 0.0410 - acc: 0.9873\n",
            "Epoch 23/30\n",
            "60000/60000 - 3s - loss: 0.0392 - acc: 0.9876\n",
            "Epoch 24/30\n",
            "60000/60000 - 3s - loss: 0.0386 - acc: 0.9878\n",
            "Epoch 25/30\n",
            "60000/60000 - 3s - loss: 0.0377 - acc: 0.9878\n",
            "Epoch 26/30\n",
            "60000/60000 - 3s - loss: 0.0354 - acc: 0.9885\n",
            "Epoch 27/30\n",
            "60000/60000 - 3s - loss: 0.0337 - acc: 0.9889\n",
            "Epoch 28/30\n",
            "60000/60000 - 3s - loss: 0.0332 - acc: 0.9894\n",
            "Epoch 29/30\n",
            "60000/60000 - 3s - loss: 0.0320 - acc: 0.9899\n",
            "Epoch 30/30\n",
            "60000/60000 - 3s - loss: 0.0302 - acc: 0.9902\n"
          ],
          "name": "stdout"
        },
        {
          "output_type": "execute_result",
          "data": {
            "text/plain": [
              "<tensorflow.python.keras.callbacks.History at 0x7fde6e716e80>"
            ]
          },
          "metadata": {
            "tags": []
          },
          "execution_count": 25
        }
      ]
    },
    {
      "cell_type": "code",
      "metadata": {
        "id": "tZ0kqPcIdJMU",
        "colab_type": "code",
        "outputId": "0b0e203f-85a9-438d-c774-158718931a8a",
        "colab": {
          "base_uri": "https://localhost:8080/",
          "height": 52
        }
      },
      "source": [
        "test_loss, test_acc = model.evaluate(test_X, test_onehot)\n",
        "print(\"loss: {}; acc: {}\".format(test_loss, test_acc))"
      ],
      "execution_count": 0,
      "outputs": [
        {
          "output_type": "stream",
          "text": [
            "10000/10000 [==============================] - 1s 101us/sample - loss: 0.0457 - acc: 0.9849\n",
            "loss: 0.045701857172810195; acc: 0.9848999977111816\n"
          ],
          "name": "stdout"
        }
      ]
    },
    {
      "cell_type": "code",
      "metadata": {
        "id": "HuXhqqtciXjR",
        "colab_type": "code",
        "colab": {}
      },
      "source": [
        "# from google.colab import drive\n",
        "# drive.mount(\"/gdrive\")"
      ],
      "execution_count": 0,
      "outputs": []
    },
    {
      "cell_type": "code",
      "metadata": {
        "id": "BXjJoXy_hXoa",
        "colab_type": "code",
        "colab": {}
      },
      "source": [
        "# cd \"/gdrive/My Drive/Colab Notebooks\""
      ],
      "execution_count": 0,
      "outputs": []
    },
    {
      "cell_type": "code",
      "metadata": {
        "id": "HiZGiE2dhILQ",
        "colab_type": "code",
        "colab": {}
      },
      "source": [
        "# model.save_weights(\"HW3_adam.h5\")"
      ],
      "execution_count": 0,
      "outputs": []
    },
    {
      "cell_type": "code",
      "metadata": {
        "id": "tdZcyrp2iZ8p",
        "colab_type": "code",
        "colab": {}
      },
      "source": [
        "# model_json = model.to_json()\n",
        "# with open(\"HW3_P3_adam_seed3.json\", \"w\") as json_file:\n",
        "#     json_file.write(model_json)"
      ],
      "execution_count": 0,
      "outputs": []
    },
    {
      "cell_type": "code",
      "metadata": {
        "id": "JuLVfJwT_J18",
        "colab_type": "code",
        "colab": {}
      },
      "source": [
        "# plot confusion matrix\n",
        "from sklearn.metrics import confusion_matrix,  accuracy_score\n",
        "from sklearn.utils.multiclass import unique_labels\n",
        "import matplotlib.pyplot as plt\n",
        "%matplotlib inline\n",
        "\n",
        "def plot_confusion_matrix(y_true, y_pred, classes,\n",
        "                          normalize=False,\n",
        "                          title=None,\n",
        "                          cmap=plt.cm.Blues):\n",
        "    \"\"\"\n",
        "    This function prints and plots the confusion matrix.\n",
        "    Normalization can be applied by setting `normalize=True`.\n",
        "    \"\"\"\n",
        "    if not title:\n",
        "        if normalize:\n",
        "            title = 'Normalized confusion matrix'\n",
        "        else:\n",
        "            title = 'Confusion matrix, without normalization'\n",
        "\n",
        "    # Compute confusion matrix\n",
        "    cm = confusion_matrix(y_true, y_pred)\n",
        "    # Only use the labels that appear in the data\n",
        "    classes = classes[unique_labels(y_true, y_pred)]\n",
        "    accuracy__score = accuracy_score(y_true, y_pred)\n",
        "    print(\"Accuracy score: %.2f\" % accuracy__score)\n",
        "    if normalize:\n",
        "        cm = cm.astype('float') / cm.sum(axis=1)[:, np.newaxis]\n",
        "        print(\"Normalized confusion matrix\")\n",
        "    else:\n",
        "        print('Confusion matrix, without normalization')\n",
        "\n",
        "    #print(cm)\n",
        "\n",
        "    fig, ax = plt.subplots()\n",
        "    im = ax.imshow(cm, interpolation='nearest', cmap=cmap)\n",
        "    ax.figure.colorbar(im, ax=ax)\n",
        "    # We want to show all ticks...\n",
        "    ax.set(xticks=np.arange(cm.shape[1]),\n",
        "           yticks=np.arange(cm.shape[0]),\n",
        "           # ... and label them with the respective list entries\n",
        "           xticklabels=classes, yticklabels=classes,\n",
        "           title=title,\n",
        "           ylabel='True label',\n",
        "           xlabel='Predicted label')\n",
        "\n",
        "    # Rotate the tick labels and set their alignment.\n",
        "    plt.setp(ax.get_xticklabels(), rotation=45, ha=\"right\",\n",
        "             rotation_mode=\"anchor\")\n",
        "\n",
        "    # Loop over data dimensions and create text annotations.\n",
        "    fmt = '.2f' if normalize else 'd'\n",
        "    thresh = cm.max() / 2.\n",
        "    for i in range(cm.shape[0]):\n",
        "        for j in range(cm.shape[1]):\n",
        "            ax.text(j, i, format(cm[i, j], fmt),\n",
        "                    ha=\"center\", va=\"center\",\n",
        "                    color=\"white\" if cm[i, j] > thresh else \"black\")\n",
        "    fig.tight_layout()\n",
        "    return ax"
      ],
      "execution_count": 0,
      "outputs": []
    },
    {
      "cell_type": "code",
      "metadata": {
        "id": "-hVPpBbv3NYe",
        "colab_type": "code",
        "colab": {}
      },
      "source": [
        "y_pred = model.predict(test_X)\n",
        "# print(y_pred[0])\n",
        "decoded_y_pred = np.array([np.argmax(sample) for sample in y_pred])"
      ],
      "execution_count": 0,
      "outputs": []
    },
    {
      "cell_type": "code",
      "metadata": {
        "id": "ABYsrJ5Y_j2V",
        "colab_type": "code",
        "outputId": "297cb2e3-d60f-4a4a-9e80-9becea6e4737",
        "colab": {
          "base_uri": "https://localhost:8080/",
          "height": 349
        }
      },
      "source": [
        "plot_confusion_matrix(test_Y, decoded_y_pred, classes=np.array(range(10)),\n",
        "                      title='Confusion matrix, without normalization')"
      ],
      "execution_count": 0,
      "outputs": [
        {
          "output_type": "stream",
          "text": [
            "Accuracy score: 0.98\n",
            "Confusion matrix, without normalization\n"
          ],
          "name": "stdout"
        },
        {
          "output_type": "execute_result",
          "data": {
            "text/plain": [
              "<matplotlib.axes._subplots.AxesSubplot at 0x7fde1a401e80>"
            ]
          },
          "metadata": {
            "tags": []
          },
          "execution_count": 51
        },
        {
          "output_type": "display_data",
          "data": {
            "image/png": "[encoded data removed]",
            "text/plain": [
              "<Figure size 432x288 with 2 Axes>"
            ]
          },
          "metadata": {
            "tags": []
          }
        }
      ]
    }
  ]
}