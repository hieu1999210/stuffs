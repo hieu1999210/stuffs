{
  "nbformat": 4,
  "nbformat_minor": 0,
  "metadata": {
    "colab": {
      "name": "Untitled2.ipynb",
      "version": "0.3.2",
      "provenance": [],
      "include_colab_link": true
    },
    "kernelspec": {
      "name": "python3",
      "display_name": "Python 3"
    },
    "accelerator": "GPU"
  },
  "cells": [
    {
      "cell_type": "markdown",
      "metadata": {
        "id": "view-in-github",
        "colab_type": "text"
      },
      "source": [
        "<a href=\"https://colab.research.google.com/github/hieu1999210/stuffs/blob/master/Untitled2.ipynb\" target=\"_parent\"><img src=\"https://colab.research.google.com/assets/colab-badge.svg\" alt=\"Open In Colab\"/></a>"
      ]
    },
    {
      "cell_type": "code",
      "metadata": {
        "id": "eNiNHorbHepp",
        "colab_type": "code",
        "outputId": "0ed16a41-acb4-4b16-cfb7-3b29eea36891",
        "colab": {
          "base_uri": "https://localhost:8080/",
          "height": 121
        }
      },
      "source": [
        "from google.colab import drive\n",
        "drive.mount('/gdrive')"
      ],
      "execution_count": 0,
      "outputs": [
        {
          "output_type": "stream",
          "text": [
            "Go to this URL in a browser: https://accounts.google.com/o/oauth2/auth?client_id=947318989803-6bn6qk8qdgf4n4g3pfee6491hc0brc4i.apps.googleusercontent.com&redirect_uri=urn%3Aietf%3Awg%3Aoauth%3A2.0%3Aoob&scope=email%20https%3A%2F%2Fwww.googleapis.com%2Fauth%2Fdocs.test%20https%3A%2F%2Fwww.googleapis.com%2Fauth%2Fdrive%20https%3A%2F%2Fwww.googleapis.com%2Fauth%2Fdrive.photos.readonly%20https%3A%2F%2Fwww.googleapis.com%2Fauth%2Fpeopleapi.readonly&response_type=code\n",
            "\n",
            "Enter your authorization code:\n",
            "··········\n",
            "Mounted at /gdrive\n"
          ],
          "name": "stdout"
        }
      ]
    },
    {
      "cell_type": "code",
      "metadata": {
        "id": "KJcnXaDgN8ys",
        "colab_type": "code",
        "colab": {}
      },
      "source": [
        ""
      ],
      "execution_count": 0,
      "outputs": []
    },
    {
      "cell_type": "code",
      "metadata": {
        "id": "dAjYLTdlsk3O",
        "colab_type": "code",
        "outputId": "70374c65-96a6-47e7-a540-789ffde1fb11",
        "colab": {
          "base_uri": "https://localhost:8080/",
          "height": 205
        }
      },
      "source": [
        "!pip install opencv-python==4.1.0.25"
      ],
      "execution_count": 0,
      "outputs": [
        {
          "output_type": "stream",
          "text": [
            "Collecting opencv-python==4.1.0.25\n",
            "\u001b[?25l  Downloading https://files.pythonhosted.org/packages/7b/d2/a2dbf83d4553ca6b3701d91d75e42fe50aea97acdc00652dca515749fb5d/opencv_python-4.1.0.25-cp36-cp36m-manylinux1_x86_64.whl (26.6MB)\n",
            "\u001b[K     |████████████████████████████████| 26.6MB 1.3MB/s \n",
            "\u001b[?25hRequirement already satisfied: numpy>=1.11.3 in /usr/local/lib/python3.6/dist-packages (from opencv-python==4.1.0.25) (1.16.4)\n",
            "\u001b[31mERROR: albumentations 0.1.12 has requirement imgaug<0.2.7,>=0.2.5, but you'll have imgaug 0.2.9 which is incompatible.\u001b[0m\n",
            "Installing collected packages: opencv-python\n",
            "  Found existing installation: opencv-python 3.4.5.20\n",
            "    Uninstalling opencv-python-3.4.5.20:\n",
            "      Successfully uninstalled opencv-python-3.4.5.20\n",
            "Successfully installed opencv-python-4.1.0.25\n"
          ],
          "name": "stdout"
        }
      ]
    },
    {
      "cell_type": "code",
      "metadata": {
        "id": "3Ka_KXHsCJDT",
        "colab_type": "code",
        "outputId": "22ce6d04-4b95-40f2-8bf1-cf1ebc3902e8",
        "colab": {
          "base_uri": "https://localhost:8080/",
          "height": 34
        }
      },
      "source": [
        "cd \"/gdrive/My Drive/ml_project\""
      ],
      "execution_count": 0,
      "outputs": [
        {
          "output_type": "stream",
          "text": [
            "/gdrive/My Drive/ml_project\n"
          ],
          "name": "stdout"
        }
      ]
    },
    {
      "cell_type": "code",
      "metadata": {
        "id": "46mKuz4yy-9g",
        "colab_type": "code",
        "outputId": "b38dfe70-2cd2-4a8e-9d4a-76ced9ac611c",
        "colab": {
          "base_uri": "https://localhost:8080/",
          "height": 171
        }
      },
      "source": [
        "!ps ax | grep python"
      ],
      "execution_count": 0,
      "outputs": [
        {
          "output_type": "stream",
          "text": [
            "     27 ?        Sl     0:54 /usr/bin/python2 /usr/local/bin/jupyter-notebook --ip=\"172.28.0.2\" --port=9000 --FileContentsManager.root_dir=\"/\" --MappingKernelManager.root_dir=\"/content\"\n",
            "   1958 ?        Ssl    0:01 /usr/bin/python3 -m ipykernel_launcher -f /root/.local/share/jupyter/runtime/kernel-d5bd518e-0024-4cca-919b-3a9c8a3e3a05.json\n",
            "   1961 ?        Ssl    0:01 /usr/bin/python3 -m ipykernel_launcher -f /root/.local/share/jupyter/runtime/kernel-bd043521-9a94-44ec-8855-69e4ad5ecb62.json\n",
            "   1976 ?        Ssl    0:01 /usr/bin/python3 -m ipykernel_launcher -f /root/.local/share/jupyter/runtime/kernel-b5adf3d1-ab52-4161-8386-125d90810129.json\n",
            "   1980 ?        Ssl    0:01 /usr/bin/python3 -m ipykernel_launcher -f /root/.local/share/jupyter/runtime/kernel-433147fb-964b-49be-957c-1ed395370e58.json\n",
            "   1982 ?        Ssl    0:01 /usr/bin/python3 -m ipykernel_launcher -f /root/.local/share/jupyter/runtime/kernel-a2ae5f97-0b84-4b08-a665-2e42cf590a5b.json\n",
            "   2044 ?        S      0:00 /bin/bash -c ps ax | grep python\n",
            "   2046 ?        S      0:00 grep python\n"
          ],
          "name": "stdout"
        }
      ]
    },
    {
      "cell_type": "code",
      "metadata": {
        "id": "OgZo-ehAhTzB",
        "colab_type": "code",
        "colab": {}
      },
      "source": [
        "!pkill -9 -f ipykernel_launcher"
      ],
      "execution_count": 0,
      "outputs": []
    },
    {
      "cell_type": "code",
      "metadata": {
        "id": "PjvRbKneBfJA",
        "colab_type": "code",
        "outputId": "1870d79b-a69b-4832-f85c-25488d85182d",
        "colab": {
          "base_uri": "https://localhost:8080/",
          "height": 84
        }
      },
      "source": [
        "!python filter.py"
      ],
      "execution_count": 0,
      "outputs": [
        {
          "output_type": "stream",
          "text": [
            "0.4277296 0.029693896\n",
            "140.2806 0.034677017\n",
            "2.8965542 -31.172195\n",
            "6436\n"
          ],
          "name": "stdout"
        }
      ]
    },
    {
      "cell_type": "code",
      "metadata": {
        "id": "D8-GXc7_aUFc",
        "colab_type": "code",
        "outputId": "40bfda82-25a9-4fa1-f885-aecf3bc0be60",
        "colab": {
          "base_uri": "https://localhost:8080/",
          "height": 386
        }
      },
      "source": [
        "!python detect.py"
      ],
      "execution_count": 0,
      "outputs": [
        {
          "output_type": "stream",
          "text": [
            "{'2000': {'ul': [501300.0, 1220700.0], 'ur': [710700.0, 1220700.0], 'll': [501300.0, 1017000.0], 'lr': [710700.0, 1017000.0]}}\n",
            "Saved  LANDSAT_TM_C1/LT05_L1TP_125053_20000115_20161216_01_T1\n",
            "Saved  LANDSAT_TM_C1/LT05_L1TP_125053_20000131_20161215_01_T1\n",
            "Saved  LANDSAT_TM_C1/LT05_L1TP_125053_20000216_20161215_01_T1\n",
            "Saved  LANDSAT_TM_C1/LT05_L1TP_125053_20000303_20161216_01_T1\n",
            "Saved  LANDSAT_TM_C1/LT05_L1TP_125053_20000319_20161214_01_T1\n",
            "Saved  LANDSAT_TM_C1/LT05_L1TP_125053_20000404_20161214_01_T1\n",
            "Saved  LANDSAT_TM_C1/LT05_L1TP_125053_20000420_20161214_01_T1\n",
            "Saved  LANDSAT_TM_C1/LT05_L1GS_125053_20000506_20161215_01_T2\n",
            "Saved  LANDSAT_TM_C1/LT05_L1TP_125053_20000522_20161215_01_T1\n",
            "Saved  LANDSAT_TM_C1/LT05_L1TP_125053_20000607_20161214_01_T1\n",
            "Saved  LANDSAT_TM_C1/LT05_L1TP_125053_20000623_20161214_01_T1\n",
            "Saved  LANDSAT_TM_C1/LT05_L1TP_125053_20000709_20161214_01_T1\n",
            "Saved  LANDSAT_TM_C1/LT05_L1TP_125053_20000810_20161213_01_T1\n",
            "Saved  LANDSAT_TM_C1/LT05_L1GS_125053_20000826_20161214_01_T2\n",
            "Saved  LANDSAT_TM_C1/LT05_L1TP_125053_20000911_20161214_01_T1\n",
            "Saved  LANDSAT_TM_C1/LT05_L1TP_125053_20000927_20161213_01_T1\n",
            "Saved  LANDSAT_TM_C1/LT05_L1GS_125053_20001013_20161213_01_T2\n",
            "Saved  LANDSAT_TM_C1/LT05_L1GS_125053_20001029_20161213_01_T2\n",
            "Saved  LANDSAT_TM_C1/LT05_L1TP_125053_20001114_20161213_01_T1\n",
            "Saved  LANDSAT_TM_C1/LT05_L1GS_125053_20001130_20161213_01_T2\n",
            "Saved  LANDSAT_TM_C1/LT05_L1TP_125053_20001216_20161212_01_T1\n"
          ],
          "name": "stdout"
        }
      ]
    },
    {
      "cell_type": "code",
      "metadata": {
        "id": "3ML378ApCwiX",
        "colab_type": "code",
        "outputId": "1ea1bca2-a86c-43ec-bbc1-6bba6bafbb13",
        "colab": {
          "base_uri": "https://localhost:8080/",
          "height": 70
        }
      },
      "source": [
        "!java --version\n"
      ],
      "execution_count": 0,
      "outputs": [
        {
          "output_type": "stream",
          "text": [
            "openjdk 11.0.2 2019-01-15\n",
            "OpenJDK Runtime Environment (build 11.0.2+9-Ubuntu-3ubuntu118.04.3)\n",
            "OpenJDK 64-Bit Server VM (build 11.0.2+9-Ubuntu-3ubuntu118.04.3, mixed mode, sharing)\n"
          ],
          "name": "stdout"
        }
      ]
    },
    {
      "cell_type": "code",
      "metadata": {
        "id": "a5Up24HYBwEV",
        "colab_type": "code",
        "colab": {}
      },
      "source": [
        ""
      ],
      "execution_count": 0,
      "outputs": []
    },
    {
      "cell_type": "code",
      "metadata": {
        "id": "dZpbZBsHC8sx",
        "colab_type": "code",
        "outputId": "3561fa72-c377-494a-a722-123c22f8feb7",
        "colab": {
          "base_uri": "https://localhost:8080/",
          "height": 319
        }
      },
      "source": [
        "!sudo apt-get update"
      ],
      "execution_count": 0,
      "outputs": [
        {
          "output_type": "stream",
          "text": [
            "\r0% [Working]\r            \rGet:1 https://cloud.r-project.org/bin/linux/ubuntu bionic-cran35/ InRelease [3,609 B]\n",
            "\r0% [Connecting to archive.ubuntu.com (91.189.88.162)] [Connecting to security.u\r0% [Connecting to archive.ubuntu.com (91.189.88.162)] [Connecting to security.u\r0% [1 InRelease gpgv 3,609 B] [Connecting to archive.ubuntu.com (91.189.88.162)\r0% [Waiting for headers] [Waiting for headers] [Waiting for headers] [Waiting f\r                                                                               \rHit:2 http://ppa.launchpad.net/graphics-drivers/ppa/ubuntu bionic InRelease\n",
            "\r0% [Waiting for headers] [Waiting for headers] [Waiting for headers] [Connectin\r                                                                               \rHit:3 http://archive.ubuntu.com/ubuntu bionic InRelease\n",
            "\r                                                                               \rGet:4 http://security.ubuntu.com/ubuntu bionic-security InRelease [88.7 kB]\n",
            "\r0% [Waiting for headers] [4 InRelease 2,586 B/88.7 kB 3%] [Waiting for headers]\r0% [2 InRelease gpgv 21.3 kB] [Waiting for headers] [4 InRelease 2,586 B/88.7 k\r0% [Waiting for headers] [4 InRelease 14.2 kB/88.7 kB 16%] [Waiting for headers\r0% [3 InRelease gpgv 242 kB] [Waiting for headers] [4 InRelease 14.2 kB/88.7 kB\r0% [Waiting for headers] [4 InRelease 14.2 kB/88.7 kB 16%] [Waiting for headers\r                                                                               \rIgn:5 https://developer.download.nvidia.com/compute/cuda/repos/ubuntu1804/x86_64  InRelease\n",
            "Get:6 http://archive.ubuntu.com/ubuntu bionic-updates InRelease [88.7 kB]\n",
            "Hit:7 http://ppa.launchpad.net/marutter/c2d4u3.5/ubuntu bionic InRelease\n",
            "Ign:8 https://developer.download.nvidia.com/compute/machine-learning/repos/ubuntu1804/x86_64  InRelease\n",
            "Hit:9 https://developer.download.nvidia.com/compute/cuda/repos/ubuntu1804/x86_64  Release\n",
            "Hit:10 https://developer.download.nvidia.com/compute/machine-learning/repos/ubuntu1804/x86_64  Release\n",
            "Get:13 http://security.ubuntu.com/ubuntu bionic-security/main amd64 Packages [427 kB]\n",
            "Get:14 http://archive.ubuntu.com/ubuntu bionic-backports InRelease [74.6 kB]\n",
            "Get:15 http://archive.ubuntu.com/ubuntu bionic-updates/main amd64 Packages [778 kB]\n",
            "Get:16 http://security.ubuntu.com/ubuntu bionic-security/universe amd64 Packages [304 kB]\n",
            "Get:17 http://archive.ubuntu.com/ubuntu bionic-updates/universe amd64 Packages [1,191 kB]\n",
            "Fetched 2,955 kB in 4s (767 kB/s)\n",
            "Reading package lists... Done\n"
          ],
          "name": "stdout"
        }
      ]
    },
    {
      "cell_type": "code",
      "metadata": {
        "id": "CHK1ON8XDDhP",
        "colab_type": "code",
        "outputId": "e0cfca5d-3026-4f19-8a6f-635f01ca7646",
        "colab": {
          "base_uri": "https://localhost:8080/",
          "height": 35
        }
      },
      "source": [
        "! efibootmgr\n"
      ],
      "execution_count": 0,
      "outputs": [
        {
          "output_type": "stream",
          "text": [
            "/bin/bash: efibootmgr: command not found\n"
          ],
          "name": "stdout"
        }
      ]
    },
    {
      "cell_type": "code",
      "metadata": {
        "id": "Ua94I__HGpjk",
        "colab_type": "code",
        "outputId": "071ab3d3-372b-4e20-a44f-6dc6ce9a6feb",
        "colab": {
          "base_uri": "https://localhost:8080/",
          "height": 728
        }
      },
      "source": [
        "!sudo apt-get install efibootmgr"
      ],
      "execution_count": 0,
      "outputs": [
        {
          "output_type": "stream",
          "text": [
            "Reading package lists... Done\n",
            "Building dependency tree       \n",
            "Reading state information... Done\n",
            "The following package was automatically installed and is no longer required:\n",
            "  libnvidia-common-410\n",
            "Use 'sudo apt autoremove' to remove it.\n",
            "The following additional packages will be installed:\n",
            "  libefiboot1 libefivar1\n",
            "The following NEW packages will be installed:\n",
            "  efibootmgr libefiboot1 libefivar1\n",
            "0 upgraded, 3 newly installed, 0 to remove and 16 not upgraded.\n",
            "Need to get 98.0 kB of archives.\n",
            "After this operation, 319 kB of additional disk space will be used.\n",
            "Get:1 http://archive.ubuntu.com/ubuntu bionic/main amd64 libefivar1 amd64 34-1 [46.2 kB]\n",
            "Get:2 http://archive.ubuntu.com/ubuntu bionic/main amd64 libefiboot1 amd64 34-1 [23.5 kB]\n",
            "Get:3 http://archive.ubuntu.com/ubuntu bionic/main amd64 efibootmgr amd64 15-1 [28.2 kB]\n",
            "Fetched 98.0 kB in 2s (50.6 kB/s)\n",
            "debconf: unable to initialize frontend: Dialog\n",
            "debconf: (No usable dialog-like program is installed, so the dialog based frontend cannot be used. at /usr/share/perl5/Debconf/FrontEnd/Dialog.pm line 76, <> line 3.)\n",
            "debconf: falling back to frontend: Readline\n",
            "debconf: unable to initialize frontend: Readline\n",
            "debconf: (This frontend requires a controlling tty.)\n",
            "debconf: falling back to frontend: Teletype\n",
            "dpkg-preconfigure: unable to re-open stdin: \n",
            "Selecting previously unselected package libefivar1:amd64.\n",
            "(Reading database ... 130811 files and directories currently installed.)\n",
            "Preparing to unpack .../libefivar1_34-1_amd64.deb ...\n",
            "Unpacking libefivar1:amd64 (34-1) ...\n",
            "Selecting previously unselected package libefiboot1:amd64.\n",
            "Preparing to unpack .../libefiboot1_34-1_amd64.deb ...\n",
            "Unpacking libefiboot1:amd64 (34-1) ...\n",
            "Selecting previously unselected package efibootmgr.\n",
            "Preparing to unpack .../efibootmgr_15-1_amd64.deb ...\n",
            "Unpacking efibootmgr (15-1) ...\n",
            "Setting up libefivar1:amd64 (34-1) ...\n",
            "Processing triggers for libc-bin (2.27-3ubuntu1) ...\n",
            "Setting up libefiboot1:amd64 (34-1) ...\n",
            "Processing triggers for man-db (2.8.3-2ubuntu0.1) ...\n",
            "Setting up efibootmgr (15-1) ...\n",
            "Processing triggers for libc-bin (2.27-3ubuntu1) ...\n"
          ],
          "name": "stdout"
        }
      ]
    },
    {
      "cell_type": "code",
      "metadata": {
        "id": "k6LCIDrUGza7",
        "colab_type": "code",
        "outputId": "3d30fd6a-638c-4611-a41a-51cb339d2dcd",
        "colab": {
          "base_uri": "https://localhost:8080/",
          "height": 35
        }
      },
      "source": [
        "!sudo efibootmgr "
      ],
      "execution_count": 0,
      "outputs": [
        {
          "output_type": "stream",
          "text": [
            "EFI variables are not supported on this system.\n"
          ],
          "name": "stdout"
        }
      ]
    }
  ]
}